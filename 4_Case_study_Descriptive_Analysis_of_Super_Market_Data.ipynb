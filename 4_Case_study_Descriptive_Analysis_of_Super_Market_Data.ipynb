{
 "cells": [
  {
   "cell_type": "markdown",
   "metadata": {
    "id": "hhURyIA45b5q"
   },
   "source": [
    "## Descriptive Statistics\n",
    "<h3> Descriptive Analysis of Super Market Data </h3>\n",
    "\n"
   ]
  },
  {
   "cell_type": "code",
   "execution_count": 1,
   "metadata": {
    "id": "WlC7nyk65b5x"
   },
   "outputs": [],
   "source": [
    "#Step1: Import the required libraries\n",
    "import pandas as pd\n",
    "import numpy as np\n",
    "import scipy.stats"
   ]
  },
  {
   "cell_type": "code",
   "execution_count": 2,
   "metadata": {
    "id": "ErFd4pfY5b51"
   },
   "outputs": [],
   "source": [
    "df=pd.read_csv(\"supermarket.csv\")"
   ]
  },
  {
   "cell_type": "code",
   "execution_count": 3,
   "metadata": {
    "colab": {
     "base_uri": "https://localhost:8080/"
    },
    "id": "gkus7T5pW59k",
    "outputId": "e326c32f-386d-46c4-ea90-2fb23e3e3851"
   },
   "outputs": [
    {
     "name": "stdout",
     "output_type": "stream",
     "text": [
      "<class 'pandas.core.frame.DataFrame'>\n",
      "RangeIndex: 84881 entries, 0 to 84880\n",
      "Data columns (total 5 columns):\n",
      " #   Column         Non-Null Count  Dtype  \n",
      "---  ------         --------------  -----  \n",
      " 0   ProductCode    84881 non-null  object \n",
      " 1   Date           84881 non-null  object \n",
      " 2   Amount         84881 non-null  float64\n",
      " 3   Received Cash  84881 non-null  float64\n",
      " 4   CashierName    84881 non-null  object \n",
      "dtypes: float64(2), object(3)\n",
      "memory usage: 3.2+ MB\n"
     ]
    }
   ],
   "source": [
    "df.info()"
   ]
  },
  {
   "cell_type": "code",
   "execution_count": 4,
   "metadata": {
    "colab": {
     "base_uri": "https://localhost:8080/",
     "height": 300
    },
    "id": "55Cww-xBW-sF",
    "outputId": "cb49f2cf-6d9f-45bb-ab15-ae9e49e92e04"
   },
   "outputs": [
    {
     "data": {
      "text/html": [
       "<div>\n",
       "<style scoped>\n",
       "    .dataframe tbody tr th:only-of-type {\n",
       "        vertical-align: middle;\n",
       "    }\n",
       "\n",
       "    .dataframe tbody tr th {\n",
       "        vertical-align: top;\n",
       "    }\n",
       "\n",
       "    .dataframe thead th {\n",
       "        text-align: right;\n",
       "    }\n",
       "</style>\n",
       "<table border=\"1\" class=\"dataframe\">\n",
       "  <thead>\n",
       "    <tr style=\"text-align: right;\">\n",
       "      <th></th>\n",
       "      <th>Amount</th>\n",
       "      <th>Received Cash</th>\n",
       "    </tr>\n",
       "  </thead>\n",
       "  <tbody>\n",
       "    <tr>\n",
       "      <th>count</th>\n",
       "      <td>84881.000000</td>\n",
       "      <td>8.488100e+04</td>\n",
       "    </tr>\n",
       "    <tr>\n",
       "      <th>mean</th>\n",
       "      <td>189.781109</td>\n",
       "      <td>1.852732e+08</td>\n",
       "    </tr>\n",
       "    <tr>\n",
       "      <th>std</th>\n",
       "      <td>284.032620</td>\n",
       "      <td>3.648960e+10</td>\n",
       "    </tr>\n",
       "    <tr>\n",
       "      <th>min</th>\n",
       "      <td>-1772.900000</td>\n",
       "      <td>0.000000e+00</td>\n",
       "    </tr>\n",
       "    <tr>\n",
       "      <th>25%</th>\n",
       "      <td>38.000000</td>\n",
       "      <td>5.000000e+01</td>\n",
       "    </tr>\n",
       "    <tr>\n",
       "      <th>50%</th>\n",
       "      <td>95.000000</td>\n",
       "      <td>1.550000e+02</td>\n",
       "    </tr>\n",
       "    <tr>\n",
       "      <th>75%</th>\n",
       "      <td>227.700000</td>\n",
       "      <td>4.000000e+02</td>\n",
       "    </tr>\n",
       "    <tr>\n",
       "      <th>max</th>\n",
       "      <td>13263.900000</td>\n",
       "      <td>7.500000e+12</td>\n",
       "    </tr>\n",
       "  </tbody>\n",
       "</table>\n",
       "</div>"
      ],
      "text/plain": [
       "             Amount  Received Cash\n",
       "count  84881.000000   8.488100e+04\n",
       "mean     189.781109   1.852732e+08\n",
       "std      284.032620   3.648960e+10\n",
       "min    -1772.900000   0.000000e+00\n",
       "25%       38.000000   5.000000e+01\n",
       "50%       95.000000   1.550000e+02\n",
       "75%      227.700000   4.000000e+02\n",
       "max    13263.900000   7.500000e+12"
      ]
     },
     "execution_count": 4,
     "metadata": {},
     "output_type": "execute_result"
    }
   ],
   "source": [
    "df.describe()"
   ]
  },
  {
   "cell_type": "code",
   "execution_count": 5,
   "metadata": {
    "colab": {
     "base_uri": "https://localhost:8080/",
     "height": 206
    },
    "id": "dxsHvjwq5b52",
    "outputId": "48098420-bce3-445f-9626-582d22f76f22"
   },
   "outputs": [
    {
     "data": {
      "text/html": [
       "<div>\n",
       "<style scoped>\n",
       "    .dataframe tbody tr th:only-of-type {\n",
       "        vertical-align: middle;\n",
       "    }\n",
       "\n",
       "    .dataframe tbody tr th {\n",
       "        vertical-align: top;\n",
       "    }\n",
       "\n",
       "    .dataframe thead th {\n",
       "        text-align: right;\n",
       "    }\n",
       "</style>\n",
       "<table border=\"1\" class=\"dataframe\">\n",
       "  <thead>\n",
       "    <tr style=\"text-align: right;\">\n",
       "      <th></th>\n",
       "      <th>ProductCode</th>\n",
       "      <th>Date</th>\n",
       "      <th>Amount</th>\n",
       "      <th>Received Cash</th>\n",
       "      <th>CashierName</th>\n",
       "    </tr>\n",
       "  </thead>\n",
       "  <tbody>\n",
       "    <tr>\n",
       "      <th>0</th>\n",
       "      <td>LBVT18010004435</td>\n",
       "      <td>01-05-2018 12:36</td>\n",
       "      <td>1121.2</td>\n",
       "      <td>1121.2</td>\n",
       "      <td>MAYTE</td>\n",
       "    </tr>\n",
       "    <tr>\n",
       "      <th>1</th>\n",
       "      <td>LBVT18010004436</td>\n",
       "      <td>01-05-2018 12:37</td>\n",
       "      <td>18.5</td>\n",
       "      <td>20.0</td>\n",
       "      <td>MAYTE</td>\n",
       "    </tr>\n",
       "    <tr>\n",
       "      <th>2</th>\n",
       "      <td>LBVT18010004437</td>\n",
       "      <td>01-05-2018 12:38</td>\n",
       "      <td>160.0</td>\n",
       "      <td>200.0</td>\n",
       "      <td>MAYTE</td>\n",
       "    </tr>\n",
       "    <tr>\n",
       "      <th>3</th>\n",
       "      <td>LBVT18010004438</td>\n",
       "      <td>01-05-2018 12:47</td>\n",
       "      <td>397.5</td>\n",
       "      <td>397.5</td>\n",
       "      <td>MAYTE</td>\n",
       "    </tr>\n",
       "    <tr>\n",
       "      <th>4</th>\n",
       "      <td>LBVT18010004439</td>\n",
       "      <td>01-05-2018 12:48</td>\n",
       "      <td>22.0</td>\n",
       "      <td>50.0</td>\n",
       "      <td>MAYTE</td>\n",
       "    </tr>\n",
       "  </tbody>\n",
       "</table>\n",
       "</div>"
      ],
      "text/plain": [
       "       ProductCode              Date  Amount  Received Cash CashierName\n",
       "0  LBVT18010004435  01-05-2018 12:36  1121.2         1121.2       MAYTE\n",
       "1  LBVT18010004436  01-05-2018 12:37    18.5           20.0       MAYTE\n",
       "2  LBVT18010004437  01-05-2018 12:38   160.0          200.0       MAYTE\n",
       "3  LBVT18010004438  01-05-2018 12:47   397.5          397.5       MAYTE\n",
       "4  LBVT18010004439  01-05-2018 12:48    22.0           50.0       MAYTE"
      ]
     },
     "execution_count": 5,
     "metadata": {},
     "output_type": "execute_result"
    }
   ],
   "source": [
    "df.head()                            "
   ]
  },
  {
   "cell_type": "code",
   "execution_count": 6,
   "metadata": {
    "colab": {
     "base_uri": "https://localhost:8080/"
    },
    "id": "TCNkfhQRXYm2",
    "outputId": "b1ef159b-20da-46b7-b736-0b2273f4729a"
   },
   "outputs": [
    {
     "data": {
      "text/plain": [
       "0    1121.2\n",
       "1      18.5\n",
       "2     160.0\n",
       "3     397.5\n",
       "4      22.0\n",
       "Name: Amount, dtype: float64"
      ]
     },
     "execution_count": 6,
     "metadata": {},
     "output_type": "execute_result"
    }
   ],
   "source": [
    "df['Amount'].head()"
   ]
  },
  {
   "cell_type": "code",
   "execution_count": 7,
   "metadata": {
    "colab": {
     "base_uri": "https://localhost:8080/"
    },
    "id": "eTznA24zXf9J",
    "outputId": "8e857ad9-0c6d-427a-8db0-fcf5d207ca0b"
   },
   "outputs": [
    {
     "data": {
      "text/plain": [
       "13263.9"
      ]
     },
     "execution_count": 7,
     "metadata": {},
     "output_type": "execute_result"
    }
   ],
   "source": [
    "df['Amount'].max()"
   ]
  },
  {
   "cell_type": "code",
   "execution_count": 8,
   "metadata": {
    "colab": {
     "base_uri": "https://localhost:8080/"
    },
    "id": "ll48f22AXpxn",
    "outputId": "6fca1f14-4155-41be-f5d1-e4bae0c9cf09"
   },
   "outputs": [
    {
     "data": {
      "text/plain": [
       "-1772.9"
      ]
     },
     "execution_count": 8,
     "metadata": {},
     "output_type": "execute_result"
    }
   ],
   "source": [
    "df['Amount'].min()"
   ]
  },
  {
   "cell_type": "code",
   "execution_count": 9,
   "metadata": {
    "colab": {
     "base_uri": "https://localhost:8080/"
    },
    "id": "jufyHft_Xxe1",
    "outputId": "b47ba792-17a0-4d61-d847-71f40ccb1725"
   },
   "outputs": [
    {
     "name": "stdout",
     "output_type": "stream",
     "text": [
      "Range:\t 15036.8\n"
     ]
    }
   ],
   "source": [
    "range=df['Amount'].max()-df['Amount'].min()\n",
    "print(\"Range:\\t\",range)"
   ]
  },
  {
   "cell_type": "code",
   "execution_count": 10,
   "metadata": {
    "colab": {
     "base_uri": "https://localhost:8080/"
    },
    "id": "g_yWK0L_YMU2",
    "outputId": "7ad50fc7-8dde-4c78-d4cc-23b45afdc66e"
   },
   "outputs": [
    {
     "data": {
      "text/plain": [
       "189.78110872868814"
      ]
     },
     "execution_count": 10,
     "metadata": {},
     "output_type": "execute_result"
    }
   ],
   "source": [
    "df['Amount'].mean()"
   ]
  },
  {
   "cell_type": "code",
   "execution_count": 11,
   "metadata": {
    "colab": {
     "base_uri": "https://localhost:8080/"
    },
    "id": "9NrviYJ5a1BG",
    "outputId": "0ab9d8ad-7146-4c4b-963f-07665325b58e"
   },
   "outputs": [
    {
     "data": {
      "text/plain": [
       "80674.52936872175"
      ]
     },
     "execution_count": 11,
     "metadata": {},
     "output_type": "execute_result"
    }
   ],
   "source": [
    "df['Amount'].var()"
   ]
  },
  {
   "cell_type": "code",
   "execution_count": 12,
   "metadata": {
    "colab": {
     "base_uri": "https://localhost:8080/"
    },
    "id": "N3oYyr-xYRuq",
    "outputId": "e7b79e09-2d0a-45d9-c639-fc9b8eaaf381"
   },
   "outputs": [
    {
     "data": {
      "text/plain": [
       "284.0326202546492"
      ]
     },
     "execution_count": 12,
     "metadata": {},
     "output_type": "execute_result"
    }
   ],
   "source": [
    "df['Amount'].std()"
   ]
  },
  {
   "cell_type": "code",
   "execution_count": 13,
   "metadata": {
    "colab": {
     "base_uri": "https://localhost:8080/"
    },
    "id": "ndfdhhteYYRw",
    "outputId": "75a97c19-492e-402d-9931-b740587ef087"
   },
   "outputs": [
    {
     "data": {
      "text/plain": [
       "95.0"
      ]
     },
     "execution_count": 13,
     "metadata": {},
     "output_type": "execute_result"
    }
   ],
   "source": [
    "df['Amount'].median()"
   ]
  },
  {
   "cell_type": "code",
   "execution_count": 14,
   "metadata": {
    "colab": {
     "base_uri": "https://localhost:8080/"
    },
    "id": "EcppWfk3YgjQ",
    "outputId": "a41d274e-d2a7-4d97-a29d-a5234d5aa915"
   },
   "outputs": [
    {
     "data": {
      "text/plain": [
       "0    50.0\n",
       "dtype: float64"
      ]
     },
     "execution_count": 14,
     "metadata": {},
     "output_type": "execute_result"
    }
   ],
   "source": [
    "df['Amount'].mode()"
   ]
  },
  {
   "cell_type": "code",
   "execution_count": 15,
   "metadata": {
    "colab": {
     "base_uri": "https://localhost:8080/"
    },
    "id": "jUdF75C1bz-o",
    "outputId": "1eca8dae-1ee2-420a-b35b-5c9eddee8e57"
   },
   "outputs": [
    {
     "data": {
      "text/plain": [
       "0        3.279287\n",
       "1       -0.603037\n",
       "2       -0.104852\n",
       "3        0.731325\n",
       "4       -0.590714\n",
       "           ...   \n",
       "84876   -0.610712\n",
       "84877   -0.568463\n",
       "84878   -0.592967\n",
       "84879   -0.492133\n",
       "84880   -0.562055\n",
       "Name: Amount, Length: 84881, dtype: float64"
      ]
     },
     "execution_count": 15,
     "metadata": {},
     "output_type": "execute_result"
    }
   ],
   "source": [
    "from scipy.stats import zscore\n",
    "zscore(df['Amount'])"
   ]
  },
  {
   "cell_type": "code",
   "execution_count": 16,
   "metadata": {
    "id": "ZZVwT-ID5b56",
    "outputId": "44be26d7-9d40-4382-deba-6105aa3a28e3"
   },
   "outputs": [
    {
     "name": "stdout",
     "output_type": "stream",
     "text": [
      "The mean of amount : 189.78110872868814\n",
      "The median of amount: 95.0\n"
     ]
    }
   ],
   "source": [
    "print(\"The mean of amount :\" , df[\"Amount\"].mean())      \n",
    "print(\"The median of amount:\" ,df[\"Amount\"].median())"
   ]
  },
  {
   "cell_type": "code",
   "execution_count": 17,
   "metadata": {
    "colab": {
     "base_uri": "https://localhost:8080/"
    },
    "id": "AK-cs41GZDu5",
    "outputId": "d42a9fd9-1ccf-461d-e7ce-b0dca406f43c"
   },
   "outputs": [
    {
     "data": {
      "text/plain": [
       "15036.8"
      ]
     },
     "execution_count": 17,
     "metadata": {},
     "output_type": "execute_result"
    }
   ],
   "source": [
    "np.ptp(df['Amount'])"
   ]
  },
  {
   "cell_type": "code",
   "execution_count": 18,
   "metadata": {
    "colab": {
     "base_uri": "https://localhost:8080/"
    },
    "id": "KM8wNKuZZtXU",
    "outputId": "2b28a1cb-7538-45a1-be27-6aceb13b8ff2"
   },
   "outputs": [
    {
     "data": {
      "text/plain": [
       "count    84881.000000\n",
       "mean       189.781109\n",
       "std        284.032620\n",
       "min      -1772.900000\n",
       "25%         38.000000\n",
       "50%         95.000000\n",
       "75%        227.700000\n",
       "max      13263.900000\n",
       "Name: Amount, dtype: float64"
      ]
     },
     "execution_count": 18,
     "metadata": {},
     "output_type": "execute_result"
    }
   ],
   "source": [
    "df['Amount'].describe()"
   ]
  },
  {
   "cell_type": "code",
   "execution_count": 19,
   "metadata": {
    "colab": {
     "base_uri": "https://localhost:8080/"
    },
    "id": "UO3shBCuZ_1C",
    "outputId": "871a12c8-f638-4d54-8c5b-69207f606d31"
   },
   "outputs": [
    {
     "data": {
      "text/plain": [
       "Index(['count', 'mean', 'std', 'min', '25%', '50%', '75%', 'max'], dtype='object')"
      ]
     },
     "execution_count": 19,
     "metadata": {},
     "output_type": "execute_result"
    }
   ],
   "source": [
    "abc=df['Amount'].describe()\n",
    "abc.index"
   ]
  },
  {
   "cell_type": "code",
   "execution_count": 20,
   "metadata": {
    "id": "OQ4iFVChaPH6"
   },
   "outputs": [],
   "source": [
    "q1=abc.loc['25%']\n",
    "q2=abc.loc['50%']\n",
    "q3=abc.loc['75%']"
   ]
  },
  {
   "cell_type": "code",
   "execution_count": 21,
   "metadata": {
    "colab": {
     "base_uri": "https://localhost:8080/"
    },
    "id": "pneSlpVfagK8",
    "outputId": "b4854d28-3e11-4112-c561-19ea38a6892b"
   },
   "outputs": [
    {
     "name": "stdout",
     "output_type": "stream",
     "text": [
      "IQR:\t 189.7\n"
     ]
    }
   ],
   "source": [
    "iqr=q3-q1\n",
    "print(\"IQR:\\t\",iqr)"
   ]
  },
  {
   "cell_type": "code",
   "execution_count": 22,
   "metadata": {
    "id": "iqQrP8NtZYHx"
   },
   "outputs": [],
   "source": [
    "from scipy.stats import iqr"
   ]
  },
  {
   "cell_type": "code",
   "execution_count": 23,
   "metadata": {
    "colab": {
     "base_uri": "https://localhost:8080/"
    },
    "id": "DFNYserVZZxW",
    "outputId": "a07b703f-2d80-4fbe-d304-8ecd7484a0b1"
   },
   "outputs": [
    {
     "data": {
      "text/plain": [
       "189.7"
      ]
     },
     "execution_count": 23,
     "metadata": {},
     "output_type": "execute_result"
    }
   ],
   "source": [
    "iqr(df['Amount'])"
   ]
  },
  {
   "cell_type": "code",
   "execution_count": 24,
   "metadata": {
    "id": "TFAVekqq5b58",
    "outputId": "131f5eee-a018-422b-d072-5d39c8e939e8"
   },
   "outputs": [
    {
     "name": "stdout",
     "output_type": "stream",
     "text": [
      "The range of amount is: 15036.8\n",
      "The Interquartile range is: 189.7\n",
      "The standard deviation of amount is: 284\n",
      "The variance of amount is: 80674\n"
     ]
    }
   ],
   "source": [
    "#Step5: Calculate the measures of dispersion\n",
    "print(\"The range of amount is:\" , np.ptp(df.Amount, axis=0))\n",
    "\n",
    "from scipy.stats import iqr\n",
    "print(\"The Interquartile range is:\", iqr(df.Amount, axis=0))\n",
    "\n",
    "print(\"The standard deviation of amount is:\" , round(np.std(df.Amount, axis=0)))\n",
    "\n",
    "print(\"The variance of amount is:\" , round(np.var(df.Amount, axis=0)))"
   ]
  },
  {
   "cell_type": "code",
   "execution_count": 25,
   "metadata": {
    "id": "dt9aQdymbF7D"
   },
   "outputs": [],
   "source": [
    "q1=np.percentile(df['Amount'],25)"
   ]
  },
  {
   "cell_type": "code",
   "execution_count": 26,
   "metadata": {
    "id": "IBbp7Ql9bRwe"
   },
   "outputs": [],
   "source": [
    "q3=np.percentile(df['Amount'],75)"
   ]
  },
  {
   "cell_type": "code",
   "execution_count": 27,
   "metadata": {
    "colab": {
     "base_uri": "https://localhost:8080/"
    },
    "id": "m6ryCs7NbZ5R",
    "outputId": "91c5c104-7267-42c4-cadc-0e8c70325aad"
   },
   "outputs": [
    {
     "name": "stdout",
     "output_type": "stream",
     "text": [
      "38.0\n",
      "227.7\n",
      "189.7\n"
     ]
    }
   ],
   "source": [
    "print(q1)\n",
    "print(q3)\n",
    "\n",
    "print(q3-q1)"
   ]
  },
  {
   "cell_type": "code",
   "execution_count": 28,
   "metadata": {
    "colab": {
     "base_uri": "https://localhost:8080/"
    },
    "id": "LnYw_r1a5b59",
    "outputId": "8ca7cd85-bdcd-4c20-e347-5ec2e6337f3b"
   },
   "outputs": [
    {
     "name": "stdout",
     "output_type": "stream",
     "text": [
      "The 20th percentile of amount is: 30.0\n",
      "The 3rd quartile of amount is: 227.7\n",
      "The z-score of all values in amount is: 0        3.279287\n",
      "1       -0.603037\n",
      "2       -0.104852\n",
      "3        0.731325\n",
      "4       -0.590714\n",
      "           ...   \n",
      "84876   -0.610712\n",
      "84877   -0.568463\n",
      "84878   -0.592967\n",
      "84879   -0.492133\n",
      "84880   -0.562055\n",
      "Name: Amount, Length: 84881, dtype: float64\n"
     ]
    }
   ],
   "source": [
    "#Step6: Calculate the measures of position\n",
    "print(\"The 20th percentile of amount is:\" , np.percentile(df.Amount, 20, axis=0))\n",
    "\n",
    "print(\"The 3rd quartile of amount is:\" , df.Amount.quantile(0.75))\n",
    "\n",
    "from scipy.stats import zscore\n",
    "print(\"The z-score of all values in amount is:\" , zscore(df.Amount, axis=0))"
   ]
  },
  {
   "cell_type": "code",
   "execution_count": 29,
   "metadata": {
    "colab": {
     "base_uri": "https://localhost:8080/"
    },
    "id": "_k98n-FXh95K",
    "outputId": "612de861-337f-4b96-a7e2-43ab3bf5e1cf"
   },
   "outputs": [
    {
     "data": {
      "text/plain": [
       "93.97204734735118"
      ]
     },
     "execution_count": 29,
     "metadata": {},
     "output_type": "execute_result"
    }
   ],
   "source": [
    "from scipy.stats import kurtosis\n",
    "kurtosis(df[\"Amount\"])"
   ]
  },
  {
   "cell_type": "code",
   "execution_count": 30,
   "metadata": {
    "id": "gpFQUTDqiUy6"
   },
   "outputs": [],
   "source": [
    "import matplotlib.pyplot as plt\n",
    "import seaborn as sns"
   ]
  },
  {
   "cell_type": "code",
   "execution_count": 31,
   "metadata": {
    "colab": {
     "base_uri": "https://localhost:8080/",
     "height": 352
    },
    "id": "pQMNN-27idf_",
    "outputId": "9df701c6-e093-4180-ce31-7ebdd2c824f6"
   },
   "outputs": [
    {
     "data": {
      "text/plain": [
       "(array([2.3000e+01, 8.3802e+04, 9.8500e+02, 5.3000e+01, 1.3000e+01,\n",
       "        4.0000e+00, 0.0000e+00, 0.0000e+00, 0.0000e+00, 1.0000e+00]),\n",
       " array([-1772.9 ,  -269.22,  1234.46,  2738.14,  4241.82,  5745.5 ,\n",
       "         7249.18,  8752.86, 10256.54, 11760.22, 13263.9 ]),\n",
       " <BarContainer object of 10 artists>)"
      ]
     },
     "execution_count": 31,
     "metadata": {},
     "output_type": "execute_result"
    },
    {
     "data": {
      "image/png": "[encoded data removed]",
      "text/plain": [
       "<Figure size 432x288 with 1 Axes>"
      ]
     },
     "metadata": {
      "needs_background": "light"
     },
     "output_type": "display_data"
    }
   ],
   "source": [
    "plt.hist(df[\"Amount\"])"
   ]
  },
  {
   "cell_type": "code",
   "execution_count": 32,
   "metadata": {
    "colab": {
     "base_uri": "https://localhost:8080/",
     "height": 296
    },
    "id": "qdCY6I3pit-R",
    "outputId": "cbadffd4-90da-4a10-9adc-6287eacd9deb"
   },
   "outputs": [
    {
     "data": {
      "text/plain": [
       "<AxesSubplot:xlabel='Amount', ylabel='Count'>"
      ]
     },
     "execution_count": 32,
     "metadata": {},
     "output_type": "execute_result"
    },
    {
     "data": {
      "image/png": "[encoded data removed]",
      "text/plain": [
       "<Figure size 432x288 with 1 Axes>"
      ]
     },
     "metadata": {
      "needs_background": "light"
     },
     "output_type": "display_data"
    }
   ],
   "source": [
    "sns.histplot(df[\"Amount\"])"
   ]
  },
  {
   "cell_type": "code",
   "execution_count": 33,
   "metadata": {
    "colab": {
     "base_uri": "https://localhost:8080/",
     "height": 351
    },
    "id": "oG8dOGBCiz7I",
    "outputId": "19055168-938d-42c4-9956-08e073c8fe09"
   },
   "outputs": [
    {
     "name": "stderr",
     "output_type": "stream",
     "text": [
      "C:\\Users\\20356119\\Anaconda3\\lib\\site-packages\\seaborn\\distributions.py:2619: FutureWarning: `distplot` is a deprecated function and will be removed in a future version. Please adapt your code to use either `displot` (a figure-level function with similar flexibility) or `histplot` (an axes-level function for histograms).\n",
      "  warnings.warn(msg, FutureWarning)\n"
     ]
    },
    {
     "data": {
      "text/plain": [
       "<AxesSubplot:xlabel='Amount', ylabel='Density'>"
      ]
     },
     "execution_count": 33,
     "metadata": {},
     "output_type": "execute_result"
    },
    {
     "data": {
      "image/png": "[encoded data removed]",
      "text/plain": [
       "<Figure size 432x288 with 1 Axes>"
      ]
     },
     "metadata": {
      "needs_background": "light"
     },
     "output_type": "display_data"
    }
   ],
   "source": [
    "sns.distplot(df[\"Amount\"])"
   ]
  },
  {
   "cell_type": "code",
   "execution_count": 34,
   "metadata": {
    "colab": {
     "base_uri": "https://localhost:8080/",
     "height": 408
    },
    "id": "CJfq_-fyjGRH",
    "outputId": "6b9299a2-b1be-4b7f-b411-3d2bace59dc9"
   },
   "outputs": [
    {
     "data": {
      "text/plain": [
       "{'whiskers': [<matplotlib.lines.Line2D at 0x1707ca16cd0>,\n",
       "  <matplotlib.lines.Line2D at 0x1707ca240a0>],\n",
       " 'caps': [<matplotlib.lines.Line2D at 0x1707ca24430>,\n",
       "  <matplotlib.lines.Line2D at 0x1707ca247c0>],\n",
       " 'boxes': [<matplotlib.lines.Line2D at 0x1707ca16910>],\n",
       " 'medians': [<matplotlib.lines.Line2D at 0x1707ca24b50>],\n",
       " 'fliers': [<matplotlib.lines.Line2D at 0x1707ca24ee0>],\n",
       " 'means': []}"
      ]
     },
     "execution_count": 34,
     "metadata": {},
     "output_type": "execute_result"
    },
    {
     "data": {
      "image/png": "[encoded data removed]",
      "text/plain": [
       "<Figure size 432x288 with 1 Axes>"
      ]
     },
     "metadata": {
      "needs_background": "light"
     },
     "output_type": "display_data"
    }
   ],
   "source": [
    "plt.boxplot(df[\"Amount\"])"
   ]
  },
  {
   "cell_type": "code",
   "execution_count": 35,
   "metadata": {
    "colab": {
     "base_uri": "https://localhost:8080/",
     "height": 351
    },
    "id": "BTyrjipRjgTz",
    "outputId": "bdcebda1-f2f3-402d-cb65-65294c30c002"
   },
   "outputs": [
    {
     "name": "stderr",
     "output_type": "stream",
     "text": [
      "C:\\Users\\20356119\\Anaconda3\\lib\\site-packages\\seaborn\\_decorators.py:36: FutureWarning: Pass the following variable as a keyword arg: x. From version 0.12, the only valid positional argument will be `data`, and passing other arguments without an explicit keyword will result in an error or misinterpretation.\n",
      "  warnings.warn(\n"
     ]
    },
    {
     "data": {
      "text/plain": [
       "<AxesSubplot:xlabel='Amount'>"
      ]
     },
     "execution_count": 35,
     "metadata": {},
     "output_type": "execute_result"
    },
    {
     "data": {
      "image/png": "[encoded data removed]",
      "text/plain": [
       "<Figure size 432x288 with 1 Axes>"
      ]
     },
     "metadata": {
      "needs_background": "light"
     },
     "output_type": "display_data"
    }
   ],
   "source": [
    "sns.boxplot(df[\"Amount\"])"
   ]
  },
  {
   "cell_type": "code",
   "execution_count": 36,
   "metadata": {
    "colab": {
     "base_uri": "https://localhost:8080/"
    },
    "id": "5C_jOBJQkX82",
    "outputId": "5c7eb065-89b0-44b3-a36e-0fc7783c6a88"
   },
   "outputs": [
    {
     "data": {
      "text/plain": [
       "38.0"
      ]
     },
     "execution_count": 36,
     "metadata": {},
     "output_type": "execute_result"
    }
   ],
   "source": [
    "q1"
   ]
  },
  {
   "cell_type": "code",
   "execution_count": 37,
   "metadata": {
    "colab": {
     "base_uri": "https://localhost:8080/"
    },
    "id": "J36shss6kaam",
    "outputId": "b870a1b8-0ad5-427c-99c9-c8db6df4e307"
   },
   "outputs": [
    {
     "data": {
      "text/plain": [
       "227.7"
      ]
     },
     "execution_count": 37,
     "metadata": {},
     "output_type": "execute_result"
    }
   ],
   "source": [
    "q3"
   ]
  }
 ],
 "metadata": {
  "colab": {
   "provenance": []
  },
  "kernelspec": {
   "display_name": "Python 3 (ipykernel)",
   "language": "python",
   "name": "python3"
  },
  "language_info": {
   "codemirror_mode": {
    "name": "ipython",
    "version": 3
   },
   "file_extension": ".py",
   "mimetype": "text/x-python",
   "name": "python",
   "nbconvert_exporter": "python",
   "pygments_lexer": "ipython3",
   "version": "3.9.7"
  }
 },
 "nbformat": 4,
 "nbformat_minor": 1
}
